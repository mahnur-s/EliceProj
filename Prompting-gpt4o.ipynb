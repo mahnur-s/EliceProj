{
  "nbformat": 4,
  "nbformat_minor": 0,
  "metadata": {
    "colab": {
      "provenance": []
    },
    "kernelspec": {
      "name": "python3",
      "display_name": "Python 3"
    },
    "language_info": {
      "name": "python"
    }
  },
  "cells": [
    {
      "cell_type": "markdown",
      "source": [
        "Note: This notebook works because in the 'elice-ccc-project/dataset/new_dataset' folder, there is a folder called '6822003'. For a general material_exercise_id (i.e a number other than 6822003), you need a folder at 'elice-ccc-project/dataset/new_dataset/{material_exercise_id}' and you can create such a document using OttTypeBeforeProcess by a few clicks.\n",
        "\n",
        "\\\n",
        "This can be either done manually, or you can import the OttTypeBeforeProcess's content as a package into this notebook, and define a new function that handles creating of a folder analogous to 'elice-ccc-project/dataset/new_dataset/6822003'"
      ],
      "metadata": {
        "id": "eXtytG3oIU4V"
      }
    },
    {
      "cell_type": "markdown",
      "source": [
        "# Setup"
      ],
      "metadata": {
        "id": "PqacRau4Yo96"
      }
    },
    {
      "cell_type": "code",
      "execution_count": null,
      "metadata": {
        "colab": {
          "base_uri": "https://localhost:8080/"
        },
        "id": "Lmq74repYAn4",
        "outputId": "7aecf2a9-7bae-4a52-9197-68f99dd7c29e"
      },
      "outputs": [
        {
          "output_type": "stream",
          "name": "stdout",
          "text": [
            "Mounted at /content/drive\n"
          ]
        }
      ],
      "source": [
        "from google.colab import drive\n",
        "\n",
        "# Mounting Google Drive\n",
        "drive.mount('/content/drive')"
      ]
    },
    {
      "cell_type": "code",
      "source": [
        "pip install openai > /dev/null 2>&1"
      ],
      "metadata": {
        "id": "H9Q1o-trtk8s"
      },
      "execution_count": null,
      "outputs": []
    },
    {
      "cell_type": "code",
      "source": [
        "import pandas as pd\n",
        "import os\n",
        "from os import defpath\n",
        "import datetime\n",
        "import openai\n",
        "import time\n",
        "from openai import AzureOpenAI"
      ],
      "metadata": {
        "id": "NSx5UqtTYqwQ"
      },
      "execution_count": null,
      "outputs": []
    },
    {
      "cell_type": "markdown",
      "source": [
        "# Fields"
      ],
      "metadata": {
        "id": "geco20KjYewj"
      }
    },
    {
      "cell_type": "markdown",
      "source": [
        "Variables that are initially = None will be updated after running setup_datasets(exercise_id)\n",
        "\n",
        "E.g if you run setup_datasets(6822003):\n",
        "* ops_number_csv = ops_6822003.zip as a DataFrame\n",
        "* exercise_running_log_csv = the exercise_running_log.csv file as DataFrame\n",
        "* material_exercise_csv = material_exercise.csv as DataFrame\n",
        "* prob = description of the problem with material_exercise_id = 6822003\n",
        "* grouped = material_exercise_csv being grouped by ['user_id', 'material_exercise_id']\n",
        "* grouped_dict = {name : group } pairs where name is a (user_id, material_exercise_id) pair and group is a table for which user_id and material_exercise_id is fixed.\n",
        "\n",
        "Note: As you can see, some of the variables do not really depend on '6822003' but I still made them to be null before running setup_datasets(6822003)\n"
      ],
      "metadata": {
        "id": "5hh4la8sE5YO"
      }
    },
    {
      "cell_type": "code",
      "source": [
        "exercise_running_log_adress = \"/content/drive/MyDrive/elice-ccc-project/dataset/new_dataset/exercise_running_log.csv\"\n",
        "exercise_running_log_csv = None"
      ],
      "metadata": {
        "id": "XeHI-lZWYf35"
      },
      "execution_count": null,
      "outputs": []
    },
    {
      "cell_type": "code",
      "source": [
        "ops_number_csv_adress_incomplete = \"/content/drive/MyDrive/elice-ccc-project/dataset/new_dataset/ops/ops_\"\n",
        "ops_number_csv = None"
      ],
      "metadata": {
        "id": "JhggOGDjYhCo"
      },
      "execution_count": null,
      "outputs": []
    },
    {
      "cell_type": "code",
      "source": [
        "material_exercise_csv_adress = \"/content/drive/MyDrive/elice-ccc-project/dataset/new_dataset/material_exercise.csv\"\n",
        "material_exercise_csv = None"
      ],
      "metadata": {
        "id": "1kZz_O4R6JnC"
      },
      "execution_count": null,
      "outputs": []
    },
    {
      "cell_type": "code",
      "source": [
        "exercise_running_log_csv"
      ],
      "metadata": {
        "id": "Cxnk5r14Lo_V"
      },
      "execution_count": null,
      "outputs": []
    },
    {
      "cell_type": "code",
      "source": [
        "prob = None"
      ],
      "metadata": {
        "id": "7989ljOj7TSO"
      },
      "execution_count": null,
      "outputs": []
    },
    {
      "cell_type": "code",
      "source": [
        "grouped = None\n",
        "groups_dict = None"
      ],
      "metadata": {
        "id": "_kUu3OVU7u1_"
      },
      "execution_count": null,
      "outputs": []
    },
    {
      "cell_type": "markdown",
      "source": [
        "# Functions"
      ],
      "metadata": {
        "id": "m4eMWaNUIhKq"
      }
    },
    {
      "cell_type": "code",
      "source": [
        "def setup_datasets(exercise_id):\n",
        "\n",
        "  # setup the ops_exercise_id.csv file. E.g import ops_6822003.csv file\n",
        "  ops_number_csv_adress = ops_number_csv_adress_incomplete + exercise_id + '.csv'\n",
        "  global ops_number_csv\n",
        "  ops_number_csv = pd.read_csv(ops_number_csv_adress)\n",
        "\n",
        "  # setup the exercise_running_log.csv file\n",
        "  global exercise_running_log_csv\n",
        "  exercise_running_log_csv = pd.read_csv(exercise_running_log_adress)\n",
        "  exercise_running_log_csv = exercise_running_log_csv[exercise_running_log_csv['material_exercise_id'] == int(exercise_id)]\n",
        "  exercise_running_log_csv = preprocess_exercise_running_log(exercise_running_log_csv)\n",
        "  add_running_logs(exercise_running_log_csv, exercise_id)\n",
        "\n",
        "  # setup material_exercise_csv\n",
        "  global material_exercise_csv\n",
        "  material_exercise_csv = pd.read_csv(material_exercise_csv_adress)\n",
        "\n",
        "  # setup prob variable\n",
        "  global prob\n",
        "  prob = material_exercise_csv[material_exercise_csv['material_exercise_id'] == int(exercise_id)].iloc[0, 3]\n",
        "\n",
        "  # setup grouped\n",
        "  global grouped\n",
        "  grouped = exercise_running_log_csv.groupby(['user_id', 'material_exercise_id'])\n",
        "\n",
        "  # setup group_dict\n",
        "  global groups_dict\n",
        "  groups_dict = {name: group for name, group in grouped}"
      ],
      "metadata": {
        "id": "u7DqaiNX4Mey"
      },
      "execution_count": null,
      "outputs": []
    },
    {
      "cell_type": "code",
      "source": [
        "def preprocess_exercise_running_log(df):\n",
        "  df = df[df['user_id'].isin(ops_number_csv['user_id'])].copy()\n",
        "\n",
        "  # Convert 'created_datetime' to datetime format\n",
        "  df['created_datetime'] = pd.to_datetime(df['created_datetime'])\n",
        "\n",
        "  # Sort the DataFrame by user_id, material_exercise_id, and created_datetime\n",
        "  df = df.sort_values(by=['user_id', 'material_exercise_id', 'created_datetime'])\n",
        "\n",
        "  # Calculate attempt count\n",
        "  df['attempt_count'] = df.groupby(['user_id', 'material_exercise_id']).cumcount() + 1\n",
        "\n",
        "  # Calculate time intervals between attempts\n",
        "  df['time_diff'] = df.groupby(['user_id', 'material_exercise_id'])['created_datetime'].diff().dt.total_seconds()\n",
        "\n",
        "  # Fill NaN values for the first attempt\n",
        "  df['time_diff'] = df['time_diff'].fillna(0)\n",
        "\n",
        "  return df"
      ],
      "metadata": {
        "id": "d1gVhRlEaZrI"
      },
      "execution_count": null,
      "outputs": []
    },
    {
      "cell_type": "code",
      "source": [
        "def add_running_logs(df, exercise_id):\n",
        "  df['log_combined'] = ''  # Initialize the column with empty strings\n",
        "\n",
        "  # Loop through the DataFrame grouped by user_id\n",
        "  for user_id, group in df.groupby('user_id'):\n",
        "      # Get the index of the last row for this user_id\n",
        "      last_index = group.index[-1]\n",
        "\n",
        "      # Construct the filename\n",
        "      title = f'/content/drive/MyDrive/elice-ccc-project/dataset/new_dataset/{exercise_id}/{exercise_id}_' + str(user_id) + '.py'\n",
        "\n",
        "      # Check if the file exists and read its content\n",
        "      if os.path.exists(title):\n",
        "          with open(title, 'r') as file:\n",
        "              content = file.read()\n",
        "              df.at[last_index, 'log_combined'] = content  # Update only the last row\n",
        "      else:\n",
        "          print(f\"{title} does not exist.\")\n"
      ],
      "metadata": {
        "id": "UoLeFuMjc7qt"
      },
      "execution_count": null,
      "outputs": []
    },
    {
      "cell_type": "code",
      "source": [
        "def create_prompt(group, examples=None):\n",
        "    prompts = []\n",
        "    errors_text = \"\"\"\n",
        "Type Category Description and occurrence examples:\n",
        "\n",
        "(A) Input\n",
        "Errors arising from the inability to properly store input values properly.\n",
        "1. When not all given input values are received.\n",
        "2. When the data type of the variable for the input value is incorrect.\n",
        "\n",
        "(B) Output\n",
        "Errors arising from non-compliance with the required output format.\n",
        "1. When the output format of the value in the variable is incorrect.\n",
        "2. When an incorrect string literal is output.\n",
        "\n",
        "(C) Variable\n",
        "Errors arising from incorrect use of variables.\n",
        "1. When the value stored in the variable is incorrect.\n",
        "2. When the data type of the variable is incorrectly specified.\n",
        "\n",
        "(D) Computation\n",
        "Errors caused by incorrect calculations.\n",
        "1. When calculating using incorrect values.\n",
        "2. When calculating using incorrect operations.\n",
        "\n",
        "(E) Condition\n",
        "Errors caused by incorrect use of conditional statements.\n",
        "1. When the conditional operation in the declaration part of the conditional statement is incorrect.\n",
        "2. When the condition in the declaration part of the conditional statement is insufficient.\n",
        "\n",
        "(F) Branching\n",
        "Errors caused by incorrect branching of the program.\n",
        "1. When the break in the loop is written incorrectly.\n",
        "2. When a conditional statement that should be written as if-else is written as if-if.\n",
        "\n",
        "(G) Loop\n",
        "Errors caused by incorrect use of loops.\n",
        "1. When the condition in the declaration part of the loop is incorrect.\n",
        "2. When the variable used in the declaration part of the loop is incorrect.\n",
        "\n",
        "(H) Array/String\n",
        "Errors caused by incorrect arrays or strings.\n",
        "1. When arrays or strings are initialized incorrectly.\n",
        "2. When referencing an incorrect index when using an array or string.\n",
        "\n",
        "(I) Function\n",
        "Errors caused by incorrect user-defined functions.\n",
        "1. When the parameters or return values of user-defined functions are incorrectly defined.\n",
        "2. When the arguments are incorrect when calling user-defined functions.\n",
        "\n",
        "(J) Conceptual\n",
        "Errors caused by incorrect concepts for problem-solving.\n",
        "1. When solving a different problem than the one presented.\n",
        "2. When the necessary loops or conditional statements are not written to solve the presented problem.\n",
        "\"\"\"\n",
        "\n",
        "    for _, row in group.iterrows():\n",
        "        prompt = f\"\"\"\n",
        "- Created datetime: {row['created_datetime']}\n",
        "- User ID: {row['user_id']}\n",
        "- Run type: {row['run_type']}\n",
        "- Attempt count: {row['attempt_count']}\n",
        "- Time difference between attempts: {row['time_diff']}\n",
        "- Actual submitted code for the coding problem:\n",
        "{row['log_combined']}\n",
        "- Coding Problem:\n",
        "{prob}\n",
        "- Actual Score: 16\n",
        "\"\"\"\n",
        "\n",
        "        prompts.append(prompt)\n",
        "    full_prompt = (\n",
        "        f\"Based on the following details about a student's attempts on this coding problem:\\n\"\n",
        "        f\"{prob}\\n\\n\"\n",
        "        f\"and their coding attempt:\\n\"\n",
        "        f\"{row['log_combined']}\\n\\n\"\n",
        "        \"Output a fully correct solution to the problem.\\n\\n\"\n",
        "        \"Then from the listed error types, choose the errors which upon introducing into the code will test a student's concepts for that problem.\\n\"\n",
        "        \"- Error Type: The category of the error should be clear.\\n\"\n",
        "        \"- Description: A brief description of how that error relates to the concept.\\n\"\n",
        "        \"-\\n\\n\"\n",
        "        \"Below are example error types and descriptions for reference. The error classification needs to be from within these errors only.\\n\"\n",
        "        f\"{errors_text}\"\n",
        "    )\n",
        "    return full_prompt\n",
        "\n",
        "    # Incorporating one-shot example\n",
        "    example = group[group['user_id'] == 6329546]\n",
        "\n",
        "    if not example.empty:\n",
        "        example_prompt = f\"\"\"\n",
        "        - Example:\n",
        "            - Created datetime: {example['created_datetime'].values[0]}\n",
        "            - User ID: {example['user_id'].values[0]}\n",
        "            - Run type: {example['run_type'].values[0]}\n",
        "            - Attempt count: {example['attempt_count'].values[0]}\n",
        "            - Time difference between attempts: {example['time_diff'].values[0]}\n",
        "            - Actual submitted code for the coding problem: {example['log_combined'].values[0]}\n",
        "            - Coding Problem: {prob}\n",
        "            - Actual Score: 20 out of 20 so this is student's coding solution is without any signficant errors.\n",
        "        \"\"\"\n",
        "        full_prompt += \"Examples:\\n\" + example_prompt + \"\\n\\n\"\n",
        "\n",
        "    full_prompt += (\n",
        "        \"Now, choose the errors which if introduced will help the student's concepts once he corrects them. :\\n\" + \"\\n\".join(prompts) + \"\\n\"\n",
        "    )\n",
        "\n",
        "    return full_prompt\n"
      ],
      "metadata": {
        "id": "CeBiYzdDtVcK"
      },
      "execution_count": null,
      "outputs": []
    },
    {
      "cell_type": "code",
      "source": [
        "def get_prediction_for_group(group_name):\n",
        "  if isinstance(group_name, tuple):\n",
        "\n",
        "    if group_name in groups_dict:\n",
        "        group = groups_dict[group_name]\n",
        "        prompt = create_prompt(group)\n",
        "        try:\n",
        "            response = client.chat.completions.create(\n",
        "                model='gpt-4o',\n",
        "                messages=[\n",
        "                    {\"role\": \"system\", \"content\": \"You are an AI assistant trained to classify errors in code. Respond in a professional tone. Based on the programming problem given come up with a coding solution to the coding problem and then from the list of errors choose which introducing which errors will enhance a student's understading of concepts. So output the fully functional solution and then the errors from the list which will be helpful to test concepts of student of that problem.\"},\n",
        "                    {\"role\": \"user\", \"content\": prompt}\n",
        "                ]\n",
        "            )\n",
        "            print(f\"Group: {group_name}\")\n",
        "            print(response.choices[0].message.content)\n",
        "        except Exception as e:\n",
        "            print(f\"Error processing group {group_name}: {e}\")\n",
        "    else:\n",
        "        print(f\"Group {group_name} not found.\")"
      ],
      "metadata": {
        "id": "B6aJZGCyuHnc"
      },
      "execution_count": null,
      "outputs": []
    },
    {
      "cell_type": "markdown",
      "source": [
        "# Setup the API"
      ],
      "metadata": {
        "id": "JDJ62ZRdH_EF"
      }
    },
    {
      "cell_type": "code",
      "source": [
        "os.environ[\"AZURE_OPENAI_API_KEY\"] = 'c5c982e515214500a9f5560db7c3e0b4'\n",
        "os.environ[\"AZURE_OPENAI_ENDPOINT\"] = 'https://elice-ccc.openai.azure.com/'\n",
        "\n",
        "api_key = os.getenv(\"AZURE_OPENAI_API_KEY\")\n",
        "azure_endpoint = os.getenv(\"AZURE_OPENAI_ENDPOINT\")\n",
        "\n",
        "client = AzureOpenAI(\n",
        "  api_key=api_key,\n",
        "  api_version=\"2024-05-01-preview\",\n",
        "  azure_endpoint=azure_endpoint\n",
        ")"
      ],
      "metadata": {
        "id": "fAWJkruvIHW2"
      },
      "execution_count": null,
      "outputs": []
    },
    {
      "cell_type": "markdown",
      "source": [
        "\n",
        "\n",
        "```\n",
        "# This is formatted as code\n",
        "```\n",
        "\n",
        "# Get Predictions"
      ],
      "metadata": {
        "id": "NHJemCs0IJtp"
      }
    },
    {
      "cell_type": "markdown",
      "source": [
        "If when you change exercise_id, get_prediction_for_group doesn't work, then take a look at the first note before \"Setup\" tab. \\\n",
        "\n",
        "For any further debuggin, the fields are clearly at the Fields tab."
      ],
      "metadata": {
        "id": "P9uDxyupKX6l"
      }
    },
    {
      "cell_type": "code",
      "source": [
        "user_id = 12931635\n",
        "exercise_id = 6822003\n",
        "setup_datasets(str(exercise_id))"
      ],
      "metadata": {
        "id": "ykDoEouMKwDB"
      },
      "execution_count": null,
      "outputs": []
    },
    {
      "cell_type": "code",
      "source": [
        "get_prediction_for_group((user_id, exercise_id))"
      ],
      "metadata": {
        "colab": {
          "base_uri": "https://localhost:8080/"
        },
        "id": "PHnOzNV2yXVv",
        "outputId": "c05d37e5-c73e-4876-88f6-0f84cbdb8c33"
      },
      "execution_count": null,
      "outputs": [
        {
          "output_type": "stream",
          "name": "stdout",
          "text": [
            "Group: (12931635, 6822003)\n",
            "Here is the fully functional solution to the given problem:\n",
            "\n",
            "```python\n",
            "import random                           ## DO NOT CHANGE THIS CODE\n",
            "\n",
            "final_winner = None\n",
            "\n",
            "def get_random_type():                  ## DO NOT CHANGE THIS CODE\n",
            "    types = ['water', 'fire', 'grass']  ## DO NOT CHANGE THIS CODE\n",
            "    return random.choice(types)         ## DO NOT CHANGE THIS CODE\n",
            "\n",
            "def create_pokemon(type_number=None):\n",
            "    power = random.randint(1, 100)      ## DO NOT CHANGE THIS CODE\n",
            "    if type_number is None:\n",
            "        pokemon_type = get_random_type()\n",
            "    else:\n",
            "        types = ['water', 'fire', 'grass']\n",
            "        pokemon_type = types[type_number]\n",
            "    return (power, pokemon_type)\n",
            "\n",
            "def battle(pokemon1, pokemon2):\n",
            "    power1, type1 = pokemon1\n",
            "    power2, type2 = pokemon2\n",
            "\n",
            "    if type1 == 'water' and type2 == 'fire':\n",
            "        power1 += 10\n",
            "    elif type1 == 'fire' and type2 == 'grass':\n",
            "        power1 += 10\n",
            "    elif type1 == 'grass' and type2 == 'water':\n",
            "        power1 += 10\n",
            "    elif type2 == 'water' and type1 == 'fire':\n",
            "        power2 += 10\n",
            "    elif type2 == 'fire' and type1 == 'grass':\n",
            "        power2 += 10\n",
            "    elif type2 == 'grass' and type1 == 'water':\n",
            "        power2 += 10\n",
            "\n",
            "    if power1 >= power2:\n",
            "        return (power1, pokemon1)\n",
            "    else:\n",
            "        return (power2, pokemon2)\n",
            "\n",
            "def update_winner(pokemon):\n",
            "    global final_winner\n",
            "    final_winner = pokemon\n",
            "\n",
            "#############################################\n",
            "###### DO NOT MODIFY THE MAIN FUNCTION ######\n",
            "#############################################\n",
            "def main(): \n",
            "    print(20)\n",
            "    return\n",
            "    pokemon = create_pokemon(0)\n",
            "    update_winner(pokemon)\n",
            "    \n",
            "    print(\"Winner is a %s pokemon with power %d\" % (final_winner[1], final_winner[0]))\n",
            "    \n",
            "    for i in range(10):\n",
            "        challenger = create_pokemon()\n",
            "        print(\"A new %s pokemon with power %d challenges the winner!\" % (challenger[1], challenger[0]))\n",
            "        \n",
            "        winner = battle(final_winner, challenger)[1]\n",
            "        if winner == final_winner:\n",
            "            print(\"Challenger loses!\")\n",
            "        else:\n",
            "            print(\"Challenger wins!\")\n",
            "        \n",
            "        update_winner(winner)\n",
            "        print()\n",
            "    \n",
            "    print(\"The final winner is a %s pokemon with power %d!\" % (final_winner[1], final_winner[0]))\n",
            "    \n",
            "if __name__ == '__main__':              ## DO NOT CHANGE THIS CODE\n",
            "    main()                              ## DO NOT CHANGE THIS CODE\n",
            "```\n",
            "\n",
            "### Errors that will test the student's concepts:\n",
            "\n",
            "1. **Variable: When the value stored in the variable is incorrect.**\n",
            "   - *Example*: Modify the `update_winner` function to not use the `global` keyword.\n",
            "     ```python\n",
            "     def update_winner(pokemon):\n",
            "         final_winner = pokemon  # Missing global declaration\n",
            "     ```\n",
            "     **Description**: This will test the student's understanding of modifying global variables within a function.\n",
            "\n",
            "2. **Condition: When the condition in the declaration part of the conditional statement is insufficient.**\n",
            "   - *Example*: Modify the `battle` function to only handle exact matches without considering type advantages.\n",
            "     ```python\n",
            "     def battle(pokemon1, pokemon2):\n",
            "         power1, type1 = pokemon1\n",
            "         power2, type2 = pokemon2\n",
            "\n",
            "         # Ignore type-advantages\n",
            "         if power1 >= power2:\n",
            "             return (power1, pokemon1)\n",
            "         else:\n",
            "             return (power2, pokemon2)\n",
            "     ```\n",
            "     **Description**: This will help the student understand the importance of properly implementing comparative logic with advantages considered.\n",
            "\n",
            "3. **Function: When the parameters or return values of user-defined functions are incorrectly defined.**\n",
            "   - *Example*: Modify the `create_pokemon` function to always expect a `type_number` parameter.\n",
            "     ```python\n",
            "     def create_pokemon(type_number):\n",
            "         power = random.randint(1, 100)  \n",
            "         types = ['water', 'fire', 'grass']\n",
            "         pokemon_type = types[type_number]\n",
            "         return (power, pokemon_type)\n",
            "     ```\n",
            "     **Description**: This will test the student's ability to handle optional parameters and ensure backward compatibility with the function's expected behavior when parameters are not provided.\n",
            "\n",
            "By introducing these errors, the student will be encouraged to thoroughly review the functioning of their code, enhancing their understanding of variable scoping, conditional logic, and optional parameters in functions.\n"
          ]
        }
      ]
    },
    {
      "cell_type": "code",
      "source": [
        "import ast\n",
        "\n",
        "\n",
        "code = \"\"\"\n",
        "def loop(a, b):\n",
        "    if a > b:\n",
        "      return a + b\n",
        "    else:\n",
        "      return a - b\n",
        "\n",
        "x = int(input())\n",
        "y = int(input())\n",
        "print(loop(x, y))\n",
        "\"\"\"\n",
        "\n",
        "tree = ast.parse(code)\n",
        "print(ast.dump(tree))\n"
      ],
      "metadata": {
        "colab": {
          "base_uri": "https://localhost:8080/"
        },
        "id": "snlBRAGjcjW5",
        "outputId": "e4cae9c4-17ad-4761-c1d4-b1f66768ed49"
      },
      "execution_count": null,
      "outputs": [
        {
          "output_type": "stream",
          "name": "stdout",
          "text": [
            "Module(body=[FunctionDef(name='loop', args=arguments(posonlyargs=[], args=[arg(arg='a'), arg(arg='b')], kwonlyargs=[], kw_defaults=[], defaults=[]), body=[If(test=Compare(left=Name(id='a', ctx=Load()), ops=[Gt()], comparators=[Name(id='b', ctx=Load())]), body=[Return(value=BinOp(left=Name(id='a', ctx=Load()), op=Add(), right=Name(id='b', ctx=Load())))], orelse=[Return(value=BinOp(left=Name(id='a', ctx=Load()), op=Sub(), right=Name(id='b', ctx=Load())))])], decorator_list=[]), Assign(targets=[Name(id='x', ctx=Store())], value=Call(func=Name(id='int', ctx=Load()), args=[Call(func=Name(id='input', ctx=Load()), args=[], keywords=[])], keywords=[])), Assign(targets=[Name(id='y', ctx=Store())], value=Call(func=Name(id='int', ctx=Load()), args=[Call(func=Name(id='input', ctx=Load()), args=[], keywords=[])], keywords=[])), Expr(value=Call(func=Name(id='print', ctx=Load()), args=[Call(func=Name(id='loop', ctx=Load()), args=[Name(id='x', ctx=Load()), Name(id='y', ctx=Load())], keywords=[])], keywords=[]))], type_ignores=[])\n"
          ]
        }
      ]
    },
    {
      "cell_type": "code",
      "source": [
        "class GeneralBranchingErrorIntroducer(ast.NodeTransformer):\n",
        "    def visit_FunctionDef(self, node):\n",
        "        # Process function body to handle both if-else and loop structures\n",
        "        new_body = []\n",
        "        for stmt in node.body:\n",
        "            if isinstance(stmt, ast.If):\n",
        "                # Replace 'if-else' with two 'if' statements\n",
        "                new_body.extend(self.handle_if(stmt))\n",
        "            elif isinstance(stmt, ast.While):\n",
        "                # Introduce branching error in 'while' loop\n",
        "                new_body.append(self.handle_while(stmt))\n",
        "            elif isinstance(stmt, ast.For):\n",
        "                # Introduce branching error in 'for' loop\n",
        "                new_body.append(self.handle_for(stmt))\n",
        "            else:\n",
        "                new_body.append(stmt)\n",
        "        node.body = new_body\n",
        "        return node\n",
        "\n",
        "    def handle_if(self, node):\n",
        "        if node.orelse:\n",
        "            self.generic_visit(node)\n",
        "            negated_condition = ast.UnaryOp(op=ast.Not(), operand=node.test)\n",
        "            new_if_node = ast.If(\n",
        "                test=negated_condition,\n",
        "                body=node.orelse,\n",
        "                orelse=[]\n",
        "            )\n",
        "            return [ast.If(test=node.test, body=node.body, orelse=[]), new_if_node]\n",
        "        return [node]\n",
        "\n",
        "    def handle_while(self, node):\n",
        "        self.generic_visit(node)\n",
        "        # Duplicate while loop with a modified condition to introduce error\n",
        "        negated_condition = ast.UnaryOp(op=ast.Not(), operand=node.test)\n",
        "        new_while_node = ast.While(\n",
        "            test=negated_condition,\n",
        "            body=node.body,\n",
        "            orelse=node.orelse\n",
        "        )\n",
        "        return ast.If(test=node.test, body=[node], orelse=[new_while_node])\n",
        "\n",
        "    def handle_for(self, node):\n",
        "        self.generic_visit(node)\n",
        "        # Create a duplicate loop with an erroneous branching condition\n",
        "        additional_check = ast.If(\n",
        "            test=ast.Constant(value=False),  # Always false condition\n",
        "            body=[ast.Continue()],  # Skips an iteration erroneously\n",
        "            orelse=[]\n",
        "        )\n",
        "        node.body.insert(0, additional_check)\n",
        "        return node"
      ],
      "metadata": {
        "id": "EECu7R7XWgrg"
      },
      "execution_count": null,
      "outputs": []
    },
    {
      "cell_type": "code",
      "source": [
        "code_if = \"\"\"\n",
        "def loop_if(a, b):\n",
        "    if a > b:\n",
        "        return a + b\n",
        "    else:\n",
        "        return a - b\n",
        "\"\"\"\n",
        "\n",
        "code_while = \"\"\"\n",
        "def loop_while(a, b):\n",
        "    while a > b:\n",
        "        a -= 1\n",
        "    return a\n",
        "\"\"\"\n",
        "\n",
        "code_for = \"\"\"\n",
        "def loop_for(n):\n",
        "    for i in range(n):\n",
        "        print(i)\n",
        "\"\"\"\n",
        "\n",
        "# Apply transformations on the individual code snippets\n",
        "# Parse the example codes\n",
        "tree_if = ast.parse(code_if)\n",
        "tree_while = ast.parse(code_while)\n",
        "tree_for = ast.parse(code_for)\n",
        "\n",
        "# Apply the transformer\n",
        "transformer = GeneralBranchingErrorIntroducer()\n",
        "\n",
        "new_tree_if = transformer.visit(tree_if)\n",
        "new_tree_while = transformer.visit(tree_while)\n",
        "new_tree_for = transformer.visit(tree_for)\n",
        "\n",
        "# Fix missing locations\n",
        "ast.fix_missing_locations(new_tree_if)\n",
        "ast.fix_missing_locations(new_tree_while)\n",
        "ast.fix_missing_locations(new_tree_for)\n",
        "\n",
        "# Convert the modified ASTs back to Python code\n",
        "new_code_if = ast.unparse(new_tree_if)\n",
        "new_code_while = ast.unparse(new_tree_while)\n",
        "new_code_for = ast.unparse(new_tree_for)\n",
        "\n",
        "new_code_if, new_code_while, new_code_for\n",
        "\n",
        "# Transform and print modified 'if-else' code\n",
        "tree_if = ast.parse(code_if)\n",
        "new_tree_if = transformer.visit(tree_if)\n",
        "ast.fix_missing_locations(new_tree_if)\n",
        "new_code_if = ast.unparse(new_tree_if)\n",
        "\n",
        "# Transform and print modified 'while' loop code\n",
        "tree_while = ast.parse(code_while)\n",
        "new_tree_while = transformer.visit(tree_while)\n",
        "ast.fix_missing_locations(new_tree_while)\n",
        "new_code_while = ast.unparse(new_tree_while)\n",
        "\n",
        "# Transform and print modified 'for' loop code\n",
        "tree_for = ast.parse(code_for)\n",
        "new_tree_for = transformer.visit(tree_for)\n",
        "ast.fix_missing_locations(new_tree_for)\n",
        "new_code_for = ast.unparse(new_tree_for)\n",
        "\n",
        "new_code_if, new_code_while, new_code_for"
      ],
      "metadata": {
        "colab": {
          "base_uri": "https://localhost:8080/"
        },
        "id": "Gq_TwOdTbehG",
        "outputId": "759909da-ca2d-43a3-d8b7-75ba521d0657"
      },
      "execution_count": null,
      "outputs": [
        {
          "output_type": "execute_result",
          "data": {
            "text/plain": [
              "('def loop_if(a, b):\\n    if a > b:\\n        return a + b\\n    if not a > b:\\n        return a - b',\n",
              " 'def loop_while(a, b):\\n    if a > b:\\n        while a > b:\\n            a -= 1\\n    else:\\n        while not a > b:\\n            a -= 1\\n    return a',\n",
              " 'def loop_for(n):\\n    for i in range(n):\\n        if False:\\n            continue\\n        print(i)')"
            ]
          },
          "metadata": {},
          "execution_count": 22
        }
      ]
    },
    {
      "cell_type": "markdown",
      "source": [
        "**TOY EXP**"
      ],
      "metadata": {
        "id": "wanAytG8glm_"
      }
    },
    {
      "cell_type": "code",
      "source": [],
      "metadata": {
        "id": "gPkWPe7aguZu"
      },
      "execution_count": null,
      "outputs": []
    },
    {
      "cell_type": "markdown",
      "source": [],
      "metadata": {
        "id": "dH9Nawp_grjC"
      }
    }
  ]
}